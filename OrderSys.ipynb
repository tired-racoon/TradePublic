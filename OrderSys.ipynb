{
 "cells": [
  {
   "cell_type": "markdown",
   "id": "65589fa3-f058-433b-aa59-11997fd94451",
   "metadata": {},
   "source": [
    "### Code of functions to create orders and get balance"
   ]
  },
  {
   "cell_type": "code",
   "execution_count": 14,
   "id": "163dc498-af3b-4602-b828-855d81e787e4",
   "metadata": {},
   "outputs": [],
   "source": [
    "import pandas as pd\n",
    "from tinkoff.invest import Client, InstrumentStatus, SharesResponse, InstrumentIdType\n",
    "from tinkoff.invest.services import InstrumentsService, MarketDataService\n",
    "import torch\n",
    "import torch.nn as nn\n",
    "from torch.utils.data import Dataset, DataLoader\n",
    "import tensorflow as tf\n",
    "\n",
    "import numpy as np\n",
    "import matplotlib.pyplot as plt\n",
    "\n",
    "from tqdm.auto import tqdm\n",
    "\n",
    "from nltk.tokenize import sent_tokenize, word_tokenize\n",
    "from sklearn.model_selection import train_test_split\n",
    "import nltk\n",
    "\n",
    "from collections import Counter\n",
    "from typing import List\n",
    "import random\n",
    "\n",
    "import os\n",
    "import datetime\n",
    "from tinkoff.invest import CandleInterval\n",
    "\n",
    "from tinkoff.invest import Client\n",
    "import seaborn as sns\n",
    "sns.set(palette='summer')"
   ]
  },
  {
   "cell_type": "code",
   "execution_count": 15,
   "id": "86eee89a-8488-4e38-8665-c3230f7480ff",
   "metadata": {},
   "outputs": [],
   "source": [
    "token = 'YOUR_TOKEN'"
   ]
  },
  {
   "cell_type": "code",
   "execution_count": 16,
   "id": "421e1d31-57d6-435e-8b21-316ea3885ac7",
   "metadata": {},
   "outputs": [],
   "source": [
    "df = pd.read_csv('./companies_fixed.csv')\n",
    "df['cap'] = df['cap'].astype(float)"
   ]
  },
  {
   "cell_type": "code",
   "execution_count": 17,
   "id": "e0ed9fa3-d1da-4a11-8373-e7dbab72a0ac",
   "metadata": {},
   "outputs": [],
   "source": [
    "from tinkoff.invest import Client, RequestError, PortfolioResponse, PositionsResponse, PortfolioPosition\n",
    "\n",
    "\n",
    "import pandas as pd\n",
    "\n",
    "pd.set_option('display.max_rows', 500)\n",
    "pd.set_option('display.max_columns', 500)\n",
    "pd.set_option('display.width', 1000)\n",
    "\n",
    "\n",
    "\"\"\"\n",
    "Для видео по get_portfolio\n",
    "https://tinkoff.github.io/investAPI/operations/#portfoliorequest\n",
    "https://tinkoff.github.io/investAPI\n",
    "https://github.com/Tinkoff/invest-python\n",
    "\"\"\"\n",
    "def run():\n",
    "    try:\n",
    "        with Client(token) as client:\n",
    "            acc_id = '2210190886'\n",
    "            u = client.market_data.get_last_prices(figi=['BBG004730N88'])\n",
    "            usdrur = cast_money(u.last_prices[0].price)\n",
    "            r : PortfolioResponse = client.operations.get_portfolio(account_id=acc_id)\n",
    "            op = client.operations.get_portfolio(account_id=acc_id)\n",
    "            return r, op\n",
    "\n",
    "    except RequestError as e:\n",
    "        print(str(e))\n",
    "\n",
    "\n",
    "\n",
    "def cast_money(v):\n",
    "    return v.units + v.nano / 1e9 # nano - 9 нулей"
   ]
  },
  {
   "cell_type": "code",
   "execution_count": 18,
   "id": "eabf112b-10a9-42a4-9b41-02f8e8545e09",
   "metadata": {},
   "outputs": [],
   "source": [
    "def portfolio_pose_todict(p : PortfolioPosition):\n",
    "    r = {\n",
    "        'figi': p.figi,\n",
    "        'quantity': cast_money(p.quantity),\n",
    "        'expected_yield': cast_money(p.expected_yield),\n",
    "        'instrument_type': p.instrument_type,\n",
    "        'average_buy_price': cast_money(p.average_position_price),\n",
    "        'currency': p.average_position_price.currency,\n",
    "        'nkd': cast_money(p.current_nkd),\n",
    "    }\n",
    " \n",
    "    r['sell_sum'] = (r['average_buy_price']*r['quantity']) + r['expected_yield'] + (r['nkd']*r['quantity'])\n",
    "    r['comission'] = r['sell_sum']*0.003\n",
    "    r['tax'] = r['expected_yield']*0.013 if r['expected_yield'] > 0 else 0\n",
    " \n",
    "    return r"
   ]
  },
  {
   "cell_type": "code",
   "execution_count": 19,
   "id": "b5db2421-3881-41e9-b462-7f102367a201",
   "metadata": {},
   "outputs": [
    {
     "data": {
      "text/plain": [
       "PortfolioResponse(total_amount_shares=MoneyValue(currency='rub', units=64776, nano=820000000), total_amount_bonds=MoneyValue(currency='rub', units=0, nano=0), total_amount_etf=MoneyValue(currency='rub', units=0, nano=0), total_amount_currencies=MoneyValue(currency='rub', units=24845, nano=0), total_amount_futures=MoneyValue(currency='rub', units=0, nano=0), expected_yield=Quotation(units=-2, nano=590000000), positions=[PortfolioPosition(figi='BBG0047315D0', instrument_type='share', quantity=Quotation(units=600, nano=0), average_position_price=MoneyValue(currency='rub', units=33, nano=0), expected_yield=Quotation(units=2082, nano=0), current_nkd=MoneyValue(currency='', units=0, nano=0), average_position_price_pt=Quotation(units=0, nano=0), current_price=MoneyValue(currency='rub', units=36, nano=470000000), average_position_price_fifo=MoneyValue(currency='rub', units=33, nano=0), quantity_lots=Quotation(units=6, nano=0), blocked=False, blocked_lots=Quotation(units=0, nano=0), position_uid='87a7f6b3-f42d-423e-b213-1a013ea30ef3', instrument_uid='1ffe1bff-d7b7-4b04-b482-34dc9cc0a4ba', var_margin=MoneyValue(currency='', units=0, nano=0), expected_yield_fifo=Quotation(units=2082, nano=0)), PortfolioPosition(figi='BBG003LYCMB1', instrument_type='share', quantity=Quotation(units=12, nano=0), average_position_price=MoneyValue(currency='rub', units=1675, nano=0), expected_yield=Quotation(units=-2050, nano=400000000), current_nkd=MoneyValue(currency='', units=0, nano=0), average_position_price_pt=Quotation(units=0, nano=0), current_price=MoneyValue(currency='rub', units=1504, nano=200000000), average_position_price_fifo=MoneyValue(currency='rub', units=1675, nano=0), quantity_lots=Quotation(units=12, nano=0), blocked=False, blocked_lots=Quotation(units=0, nano=0), position_uid='c05aa2b8-a9a1-4cfa-be7d-c40faadc9174', instrument_uid='55371b1f-8f7c-4c12-9d93-386fae5ec12a', var_margin=MoneyValue(currency='', units=0, nano=0), expected_yield_fifo=Quotation(units=-2050, nano=400000000)), PortfolioPosition(figi='RUB000UTSTOM', instrument_type='currency', quantity=Quotation(units=24839, nano=70000000), average_position_price=MoneyValue(currency='rub', units=1, nano=0), expected_yield=Quotation(units=0, nano=0), current_nkd=MoneyValue(currency='', units=0, nano=0), average_position_price_pt=Quotation(units=0, nano=0), current_price=MoneyValue(currency='rub', units=1, nano=0), average_position_price_fifo=MoneyValue(currency='rub', units=1, nano=0), quantity_lots=Quotation(units=24839, nano=70000000), blocked=False, blocked_lots=Quotation(units=0, nano=0), position_uid='33e24a92-aab0-409c-88b8-f2d57415b920', instrument_uid='a92e2e25-a698-45cc-a781-167cf465257c', var_margin=MoneyValue(currency='', units=0, nano=0), expected_yield_fifo=Quotation(units=0, nano=0)), PortfolioPosition(figi='TCS00A0ZZBC2', instrument_type='share', quantity=Quotation(units=7, nano=0), average_position_price=MoneyValue(currency='rub', units=0, nano=20000000), expected_yield=Quotation(units=1282, nano=750000000), current_nkd=MoneyValue(currency='', units=0, nano=0), average_position_price_pt=Quotation(units=0, nano=0), current_price=MoneyValue(currency='rub', units=183, nano=260000000), average_position_price_fifo=MoneyValue(currency='rub', units=0, nano=20000000), quantity_lots=Quotation(units=0, nano=700000000), blocked=False, blocked_lots=Quotation(units=0, nano=0), position_uid='e8d01b58-9857-4a2b-ab96-978594709159', instrument_uid='ab1f751e-15b2-4c74-802c-1b3e8638c394', var_margin=MoneyValue(currency='', units=0, nano=0), expected_yield_fifo=Quotation(units=1282, nano=750000000)), PortfolioPosition(figi='BBG0013HJJ31', instrument_type='currency', quantity=Quotation(units=0, nano=60000000), average_position_price=MoneyValue(currency='rub', units=62, nano=887500000), expected_yield=Quotation(units=2, nano=160000000), current_nkd=MoneyValue(currency='', units=0, nano=0), average_position_price_pt=Quotation(units=0, nano=0), current_price=MoneyValue(currency='rub', units=98, nano=915000000), average_position_price_fifo=MoneyValue(currency='rub', units=62, nano=887500000), quantity_lots=Quotation(units=0, nano=60000000), blocked=False, blocked_lots=Quotation(units=0, nano=0), position_uid='2415fb51-2ebe-4669-8ea4-9ba09e765366', instrument_uid='b1c06e5e-f5d4-4ff5-8cb3-dcacccd933da', var_margin=MoneyValue(currency='', units=0, nano=0), expected_yield_fifo=Quotation(units=2, nano=160000000)), PortfolioPosition(figi='TCS00A107J11', instrument_type='share', quantity=Quotation(units=74, nano=0), average_position_price=MoneyValue(currency='rub', units=353, nano=550000000), expected_yield=Quotation(units=-2602, nano=900000000), current_nkd=MoneyValue(currency='', units=0, nano=0), average_position_price_pt=Quotation(units=0, nano=0), current_price=MoneyValue(currency='rub', units=318, nano=400000000), average_position_price_fifo=MoneyValue(currency='rub', units=353, nano=550000000), quantity_lots=Quotation(units=74, nano=0), blocked=False, blocked_lots=Quotation(units=0, nano=0), position_uid='688af0b1-b0a2-4a5f-b333-ead0f4b38704', instrument_uid='df58ca03-aed0-4e1c-97fb-54a01dfb539e', var_margin=MoneyValue(currency='', units=0, nano=0), expected_yield_fifo=Quotation(units=-2602, nano=900000000))], account_id='2210190886', total_amount_options=MoneyValue(currency='rub', units=0, nano=0), total_amount_sp=MoneyValue(currency='rub', units=0, nano=0), total_amount_portfolio=MoneyValue(currency='rub', units=89621, nano=820000000), virtual_positions=[])"
      ]
     },
     "execution_count": 19,
     "metadata": {},
     "output_type": "execute_result"
    }
   ],
   "source": [
    "r, op = run()\n",
    "r"
   ]
  },
  {
   "cell_type": "code",
   "execution_count": 20,
   "id": "0b94862c-7db3-43a0-8e4f-97a969951d83",
   "metadata": {},
   "outputs": [],
   "source": [
    "actives = []\n",
    "for pos in r.positions:\n",
    "    actives.append(portfolio_pose_todict(pos))\n"
   ]
  },
  {
   "cell_type": "code",
   "execution_count": 21,
   "id": "2d44e784-335f-4730-9987-a96c58e8be80",
   "metadata": {},
   "outputs": [
    {
     "data": {
      "text/plain": [
       "({'figi': 'BBG0047315D0',\n",
       "  'quantity': 600.0,\n",
       "  'expected_yield': 2082.0,\n",
       "  'instrument_type': 'share',\n",
       "  'average_buy_price': 33.0,\n",
       "  'currency': 'rub',\n",
       "  'nkd': 0.0,\n",
       "  'sell_sum': 21882.0,\n",
       "  'comission': 65.646,\n",
       "  'tax': 27.066},\n",
       " 6)"
      ]
     },
     "execution_count": 21,
     "metadata": {},
     "output_type": "execute_result"
    }
   ],
   "source": [
    "actives[0], len(actives)"
   ]
  },
  {
   "cell_type": "code",
   "execution_count": null,
   "id": "ee608141-6c33-4fe3-83e0-365fbe4cf9fe",
   "metadata": {},
   "outputs": [],
   "source": []
  },
  {
   "cell_type": "code",
   "execution_count": 22,
   "id": "f3ab2690-047d-4915-9f6b-0ce3dbc95e2c",
   "metadata": {},
   "outputs": [
    {
     "data": {
      "text/plain": [
       "89621.82"
      ]
     },
     "execution_count": 22,
     "metadata": {},
     "output_type": "execute_result"
    }
   ],
   "source": [
    "cast_money(r.total_amount_portfolio)"
   ]
  },
  {
   "cell_type": "code",
   "execution_count": 23,
   "id": "4848d694-74af-4cdb-a282-13f911298f5e",
   "metadata": {},
   "outputs": [
    {
     "data": {
      "text/html": [
       "<div>\n",
       "<style scoped>\n",
       "    .dataframe tbody tr th:only-of-type {\n",
       "        vertical-align: middle;\n",
       "    }\n",
       "\n",
       "    .dataframe tbody tr th {\n",
       "        vertical-align: top;\n",
       "    }\n",
       "\n",
       "    .dataframe thead th {\n",
       "        text-align: right;\n",
       "    }\n",
       "</style>\n",
       "<table border=\"1\" class=\"dataframe\">\n",
       "  <thead>\n",
       "    <tr style=\"text-align: right;\">\n",
       "      <th></th>\n",
       "      <th>Unnamed: 0</th>\n",
       "      <th>name</th>\n",
       "      <th>figi</th>\n",
       "      <th>ticker</th>\n",
       "      <th>class_code</th>\n",
       "      <th>isin</th>\n",
       "      <th>currency</th>\n",
       "      <th>lot</th>\n",
       "      <th>cap</th>\n",
       "    </tr>\n",
       "  </thead>\n",
       "  <tbody>\n",
       "    <tr>\n",
       "      <th>116</th>\n",
       "      <td>213</td>\n",
       "      <td>Софтлайн</td>\n",
       "      <td>TCS00A0ZZBC2</td>\n",
       "      <td>SOFL</td>\n",
       "      <td>TQBR</td>\n",
       "      <td>RU000A0ZZBC2</td>\n",
       "      <td>rub</td>\n",
       "      <td>10</td>\n",
       "      <td>39.99</td>\n",
       "    </tr>\n",
       "  </tbody>\n",
       "</table>\n",
       "</div>"
      ],
      "text/plain": [
       "     Unnamed: 0      name          figi ticker class_code          isin currency  lot    cap\n",
       "116         213  Софтлайн  TCS00A0ZZBC2   SOFL       TQBR  RU000A0ZZBC2      rub   10  39.99"
      ]
     },
     "execution_count": 23,
     "metadata": {},
     "output_type": "execute_result"
    }
   ],
   "source": [
    "df[df['figi'] == 'TCS00A0ZZBC2']"
   ]
  },
  {
   "cell_type": "markdown",
   "id": "032847cf-728f-478a-b6d2-ffcf2cdfd6e8",
   "metadata": {},
   "source": [
    "## Покупка/продажа"
   ]
  },
  {
   "cell_type": "code",
   "execution_count": 26,
   "id": "67e64930-6ccd-4f44-b2ee-a34b27cde889",
   "metadata": {},
   "outputs": [],
   "source": [
    "from tinkoff.invest import MoneyValue\n",
    "from tinkoff.invest import OrderDirection, OrderType"
   ]
  },
  {
   "cell_type": "code",
   "execution_count": 70,
   "id": "0e8a73c0-06f4-4b3d-a082-2543df0ce54e",
   "metadata": {},
   "outputs": [
    {
     "data": {
      "text/plain": [
       "PostOrderResponse(order_id='45804904891', execution_report_status=<OrderExecutionReportStatus.EXECUTION_REPORT_STATUS_NEW: 4>, lots_requested=1, lots_executed=0, initial_order_price=MoneyValue(currency='rub', units=2810, nano=0), executed_order_price=MoneyValue(currency='rub', units=0, nano=0), total_order_amount=MoneyValue(currency='rub', units=0, nano=0), initial_commission=MoneyValue(currency='rub', units=1, nano=410000000), executed_commission=MoneyValue(currency='rub', units=0, nano=0), aci_value=MoneyValue(currency='', units=0, nano=0), figi='BBG004730N88', direction=<OrderDirection.ORDER_DIRECTION_BUY: 1>, initial_security_price=MoneyValue(currency='rub', units=281, nano=0), order_type=<OrderType.ORDER_TYPE_LIMIT: 1>, message='', initial_order_price_pt=Quotation(units=0, nano=0), instrument_uid='e6123145-9665-43e0-8413-cd61b8aa9b13', order_request_id='', response_metadata=ResponseMetadata(tracking_id='2c236ee69d0bb6d87bd5f416c0b84aa1', server_time=datetime.datetime(2024, 4, 15, 14, 22, 31, 17056, tzinfo=datetime.timezone.utc)))"
      ]
     },
     "execution_count": 70,
     "metadata": {},
     "output_type": "execute_result"
    }
   ],
   "source": [
    "\n",
    "\n",
    "with Client(token) as client:\n",
    "    resp = client.orders.post_order(figi = 'BBG004730N88', quantity = 1, price = MoneyValue(units=281, nano=0), \n",
    "    direction = OrderDirection.ORDER_DIRECTION_BUY, account_id = \"todo\", order_type = OrderType.ORDER_TYPE_LIMIT)\n",
    "resp"
   ]
  },
  {
   "cell_type": "code",
   "execution_count": 36,
   "id": "cc40bef8-efe3-483e-9a12-e5b6b6a0686e",
   "metadata": {},
   "outputs": [
    {
     "data": {
      "text/plain": [
       "True"
      ]
     },
     "execution_count": 36,
     "metadata": {},
     "output_type": "execute_result"
    }
   ],
   "source": [
    "resp.execution_report_status == 3"
   ]
  },
  {
   "cell_type": "code",
   "execution_count": 7,
   "id": "87da1f4d-b652-4232-9af8-9e1650299420",
   "metadata": {},
   "outputs": [
    {
     "data": {
      "text/plain": [
       "1"
      ]
     },
     "execution_count": 7,
     "metadata": {},
     "output_type": "execute_result"
    }
   ],
   "source": [
    "df[df['ticker'] == 'YNDX']['lot'].item()"
   ]
  },
  {
   "cell_type": "code",
   "execution_count": 14,
   "id": "317fb1b4-4529-4cc3-83c4-b915c7cac8c3",
   "metadata": {},
   "outputs": [],
   "source": [
    "def get_acc_id(token):\n",
    "    with Client(token) as client:\n",
    "        r = client.users.get_accounts()\n",
    "    ids = []\n",
    "    for elem in r.accounts:\n",
    "        ids.append(elem.id)\n",
    "    return ids"
   ]
  },
  {
   "cell_type": "code",
   "execution_count": 10,
   "id": "a4e6d5a3-aa7e-4396-bf30-9f73bd469bca",
   "metadata": {},
   "outputs": [
    {
     "data": {
      "text/plain": [
       "'BBG004S68614'"
      ]
     },
     "execution_count": 10,
     "metadata": {},
     "output_type": "execute_result"
    }
   ],
   "source": [
    "df[df['ticker'] == 'AFKS']['figi'].values[0]"
   ]
  },
  {
   "cell_type": "code",
   "execution_count": 17,
   "id": "dcc01130-7746-4708-91cd-9e8872b076da",
   "metadata": {},
   "outputs": [
    {
     "name": "stdout",
     "output_type": "stream",
     "text": [
      "0 1e-06\n"
     ]
    }
   ],
   "source": [
    "a = 0.000001\n",
    "print(int(a), a - int(a))"
   ]
  },
  {
   "cell_type": "code",
   "execution_count": 18,
   "id": "d4849f14-9614-47b6-8b6f-9af9538d826e",
   "metadata": {},
   "outputs": [],
   "source": [
    "black_list = ['IRAO', 'HYDR', 'VTBR', 'UNAC']"
   ]
  },
  {
   "cell_type": "code",
   "execution_count": 19,
   "id": "9e3cefa7-7691-4d15-a639-d4a9a4c93d62",
   "metadata": {},
   "outputs": [],
   "source": [
    "def trade_stock(acc_id, token, quantity, price, direction, ticker = None, figi = None,):\n",
    "    if ticker is None and figi is None:\n",
    "        raise KeyError('Ticker or figi must be provided')\n",
    "    # Определяем тип сделки: покупка или продажа\n",
    "    if direction == 'buy':  \n",
    "        direct = OrderDirection.ORDER_DIRECTION_BUY\n",
    "    elif direction == 'sell':\n",
    "        direct = OrderDirection.ORDER_DIRECTION_SELL\n",
    "    else:\n",
    "        raise KeyError('Direction must be \"buy\" or \"sell\"')\n",
    "    # Получаем figi по тикеру\n",
    "    if figi is None:\n",
    "        try:\n",
    "            figi = df[df['ticker'] == ticker]['figi'].values[0]\n",
    "        except:\n",
    "            raise KeyError('Ticker not in Companies DF')\n",
    "    else:\n",
    "        figi = figi\n",
    "    # Получаем значение цены в терминах Tinkoff API\n",
    "    deal_price = MoneyValue(units = int(price), nano = int(1e9 * (price - int(price))))\n",
    "    \n",
    "    with Client(token) as client:\n",
    "        resp = client.orders.post_order(figi = figi, quantity = quantity, price = deal_price, \n",
    "            direction = direct, account_id = acc_id, order_type = OrderType.ORDER_TYPE_LIMIT)\n",
    "    return resp"
   ]
  },
  {
   "cell_type": "code",
   "execution_count": 21,
   "id": "bc06b734-597f-4d17-b7e5-c1d7f0d54839",
   "metadata": {},
   "outputs": [
    {
     "data": {
      "text/plain": [
       "1"
      ]
     },
     "execution_count": 21,
     "metadata": {},
     "output_type": "execute_result"
    }
   ],
   "source": [
    "import datetime\n",
    "\n",
    "week_day = datetime.datetime.now().weekday()\n",
    "\n",
    "if week_day in [5, 6]:\n",
    "    print('Today is a weekend')\n",
    "    #todo SKIP\n",
    "week_day"
   ]
  },
  {
   "cell_type": "code",
   "execution_count": 40,
   "id": "61148320-6acf-4c0d-85c4-077962d38437",
   "metadata": {},
   "outputs": [
    {
     "data": {
      "text/plain": [
       "(4, 89510.31)"
      ]
     },
     "execution_count": 40,
     "metadata": {},
     "output_type": "execute_result"
    }
   ],
   "source": [
    "\n",
    "portfolio, opers = run()    # Получение портфолио и операций\n",
    "\n",
    "balance = cast_money(portfolio.total_amount_portfolio)\n",
    "\n",
    "actives = []                # список активов\n",
    "currencies = []\n",
    "for pos in portfolio.positions:\n",
    "    active = portfolio_pose_todict(pos)\n",
    "    if active['instrument_type'] == 'share':\n",
    "        actives.append(active)\n",
    "    if active['instrument_type'] == 'currency':\n",
    "        currencies.append(active) \n",
    "\n",
    "len(actives), balance"
   ]
  },
  {
   "cell_type": "code",
   "execution_count": 41,
   "id": "086fe288-7995-44fe-b4a0-8e5de1e75b6e",
   "metadata": {},
   "outputs": [
    {
     "data": {
      "text/plain": [
       "[{'figi': 'RUB000UTSTOM',\n",
       "  'quantity': 24839.07,\n",
       "  'expected_yield': 0.0,\n",
       "  'instrument_type': 'currency',\n",
       "  'average_buy_price': 1.0,\n",
       "  'currency': 'rub',\n",
       "  'nkd': 0.0,\n",
       "  'sell_sum': 24839.07,\n",
       "  'comission': 74.51721,\n",
       "  'tax': 0},\n",
       " {'figi': 'BBG0013HJJ31',\n",
       "  'quantity': 0.06,\n",
       "  'expected_yield': 2.18,\n",
       "  'instrument_type': 'currency',\n",
       "  'average_buy_price': 62.8875,\n",
       "  'currency': 'rub',\n",
       "  'nkd': 0.0,\n",
       "  'sell_sum': 5.953250000000001,\n",
       "  'comission': 0.01785975,\n",
       "  'tax': 0.02834}]"
      ]
     },
     "execution_count": 41,
     "metadata": {},
     "output_type": "execute_result"
    }
   ],
   "source": [
    "currencies"
   ]
  },
  {
   "cell_type": "code",
   "execution_count": null,
   "id": "f170fb98-4612-4e34-a69e-f33e20d6bf96",
   "metadata": {},
   "outputs": [],
   "source": [
    "df[df['figi'] == resp.figi]['lot'].item()"
   ]
  },
  {
   "cell_type": "code",
   "execution_count": 71,
   "id": "ff2ce979-5659-40a7-830b-4a58ec7f0b42",
   "metadata": {},
   "outputs": [],
   "source": [
    "import pytz\n",
    "def get_prices_for_actives(actives):\n",
    "    prices = dict()\n",
    "    figs = [stock['figi'] for stock in actives]\n",
    "    with Client(token) as client:\n",
    "            #for stock in actives\n",
    "            u = client.market_data.get_last_prices(figi=figs)\n",
    "    prices['time'] = datetime.datetime.now(pytz.utc)\n",
    "    for resp in u.last_prices:\n",
    "        price = cast_money(resp.price)\n",
    "        lot = df[df['figi'] == resp.figi]['lot'].item()\n",
    "        prices[resp.figi] = {'price' : price, 'lot' : lot, 'total' : price * lot}\n",
    "    return prices"
   ]
  },
  {
   "cell_type": "code",
   "execution_count": 44,
   "id": "9f33b3a7-f4fb-4a8c-ab3d-e64512dd5b5d",
   "metadata": {},
   "outputs": [
    {
     "data": {
      "text/plain": [
       "[{'figi': 'BBG0047315D0',\n",
       "  'quantity': 600.0,\n",
       "  'expected_yield': 2142.0,\n",
       "  'instrument_type': 'share',\n",
       "  'average_buy_price': 33.0,\n",
       "  'currency': 'rub',\n",
       "  'nkd': 0.0,\n",
       "  'sell_sum': 21942.0,\n",
       "  'comission': 65.82600000000001,\n",
       "  'tax': 27.846},\n",
       " {'figi': 'BBG003LYCMB1',\n",
       "  'quantity': 12.0,\n",
       "  'expected_yield': -2112.0,\n",
       "  'instrument_type': 'share',\n",
       "  'average_buy_price': 1675.0,\n",
       "  'currency': 'rub',\n",
       "  'nkd': 0.0,\n",
       "  'sell_sum': 17988.0,\n",
       "  'comission': 53.964,\n",
       "  'tax': 0},\n",
       " {'figi': 'TCS00A0ZZBC2',\n",
       "  'quantity': 7.0,\n",
       "  'expected_yield': 1280.93,\n",
       "  'instrument_type': 'share',\n",
       "  'average_buy_price': 0.02,\n",
       "  'currency': 'rub',\n",
       "  'nkd': 0.0,\n",
       "  'sell_sum': 1281.0700000000002,\n",
       "  'comission': 3.8432100000000005,\n",
       "  'tax': 16.65209},\n",
       " {'figi': 'TCS00A107J11',\n",
       "  'quantity': 74.0,\n",
       "  'expected_yield': -2708.4,\n",
       "  'instrument_type': 'share',\n",
       "  'average_buy_price': 353.55,\n",
       "  'currency': 'rub',\n",
       "  'nkd': 0.0,\n",
       "  'sell_sum': 23454.3,\n",
       "  'comission': 70.3629,\n",
       "  'tax': 0}]"
      ]
     },
     "execution_count": 44,
     "metadata": {},
     "output_type": "execute_result"
    }
   ],
   "source": [
    "actives"
   ]
  },
  {
   "cell_type": "code",
   "execution_count": 45,
   "id": "99b9ac35-fcfa-4120-8181-b52fbf4496da",
   "metadata": {},
   "outputs": [],
   "source": [
    "def check_stocks_to_sell(actives, acc_id, token, predictions):\n",
    "    prices = get_prices_for_actives(actives)\n",
    "    order_responses = []\n",
    "    for stock in actives:\n",
    "        change = 100 * abs(prices[stock['figi']] - stock['average_buy_price']) /  stock['average_buy_price']\n",
    "        try:\n",
    "            ticker = df[df['figi'] == stock['figi']]['ticker'].values[0]\n",
    "        except:\n",
    "            raise KeyError(\"Can't get ticker via figi\")\n",
    "        if change > 3 or predictions[ticker] <= -80:\n",
    "            resp = trade_stock(acc_id, token, stock['quantity'], prices[stock['figi']], 'sell', figi = stock['figi'])\n",
    "            order_responses.append(resp)\n",
    "    return order_responses"
   ]
  },
  {
   "cell_type": "code",
   "execution_count": 95,
   "id": "36b24add-c74f-41d1-b48f-2bbf9efafb10",
   "metadata": {},
   "outputs": [],
   "source": [
    "def preds_to_orders(predictions, acc_id, token, currencies): # predictions - a dict like \"figi\" :  prediction\n",
    "    to_buy = []\n",
    "    total = 0\n",
    "    for pair in predictions:\n",
    "        if predictions[pair] >= 80:\n",
    "            total += predictions[pair]\n",
    "            to_buy.append({'figi' : pair , 'prediction' : predictions[pair]})\n",
    "    to_buy.sort(key = lambda x: x['prediction'], reverse = True)\n",
    "    for i, stock in enumerate(to_buy):\n",
    "        to_buy[i]['weight'] = stock['prediction'] / total\n",
    "\n",
    "    # CHECKPOINT 1\n",
    "    # return to_buy\n",
    "    free_balance = 0\n",
    "    for curr in currencies:\n",
    "        if curr['figi'] == 'RUB000UTSTOM':\n",
    "            free_balance = curr['quantity']\n",
    "    if free_balance <= 0:\n",
    "        print('Balance equals to zero or less')\n",
    "        return None\n",
    "\n",
    "    cur_prices = get_prices_for_actives(to_buy)\n",
    "    rest_balance = free_balance\n",
    "    # CHECKPOINT 2\n",
    "    # return cur_prices\n",
    "    \n",
    "    for i, stock in enumerate(to_buy):\n",
    "        total = cur_prices[stock['figi']]['total']\n",
    "        fraction = free_balance * stock['weight']\n",
    "        quantity = int(fraction  / total)\n",
    "        if quantity * total <= rest_balance:\n",
    "            to_buy[i]['quantity'] = quantity\n",
    "            rest_balance -= quantity * total\n",
    "        else:\n",
    "            to_buy[i]['quantity'] = 0\n",
    "    \n",
    "    # CHECKPOINT 3\n",
    "    # return to_buy\n",
    "    \n",
    "    buy_resps = []\n",
    "    for stock in to_buy:\n",
    "        resp = trade_stock(acc_id, token, stock['quantity'], cur_prices[stock['figi']]['price'] - 10, 'buy', figi = stock['figi'])\n",
    "        buy_resps.append(resp)\n",
    "    return buy_resps\n",
    "        \n",
    "    "
   ]
  },
  {
   "cell_type": "code",
   "execution_count": 96,
   "id": "da6f2acd-a124-4ad9-b339-bad22990f14a",
   "metadata": {},
   "outputs": [
    {
     "data": {
      "text/plain": [
       "[PostOrderResponse(order_id='46740515562', execution_report_status=<OrderExecutionReportStatus.EXECUTION_REPORT_STATUS_NEW: 4>, lots_requested=1, lots_executed=0, initial_order_price=MoneyValue(currency='rub', units=7698, nano=0), executed_order_price=MoneyValue(currency='rub', units=0, nano=0), total_order_amount=MoneyValue(currency='rub', units=0, nano=0), initial_commission=MoneyValue(currency='rub', units=293, nano=850000000), executed_commission=MoneyValue(currency='rub', units=0, nano=0), aci_value=MoneyValue(currency='', units=0, nano=0), figi='BBG004731032', direction=<OrderDirection.ORDER_DIRECTION_BUY: 1>, initial_security_price=MoneyValue(currency='rub', units=7698, nano=0), order_type=<OrderType.ORDER_TYPE_LIMIT: 1>, message='', initial_order_price_pt=Quotation(units=0, nano=0), instrument_uid='02cfdf61-6298-4c0f-a9ca-9cabc82afaf3', order_request_id='', response_metadata=ResponseMetadata(tracking_id='b4a7ccd45f5b4f04b36de283daffe271', server_time=datetime.datetime(2024, 5, 8, 12, 43, 59, 100802, tzinfo=datetime.timezone.utc))),\n",
       " PostOrderResponse(order_id='46740515800', execution_report_status=<OrderExecutionReportStatus.EXECUTION_REPORT_STATUS_NEW: 4>, lots_requested=3, lots_executed=0, initial_order_price=MoneyValue(currency='rub', units=9034, nano=800000000), executed_order_price=MoneyValue(currency='rub', units=0, nano=0), total_order_amount=MoneyValue(currency='rub', units=0, nano=0), initial_commission=MoneyValue(currency='rub', units=4, nano=520000000), executed_commission=MoneyValue(currency='rub', units=0, nano=0), aci_value=MoneyValue(currency='', units=0, nano=0), figi='BBG004730N88', direction=<OrderDirection.ORDER_DIRECTION_BUY: 1>, initial_security_price=MoneyValue(currency='rub', units=301, nano=160000000), order_type=<OrderType.ORDER_TYPE_LIMIT: 1>, message='', initial_order_price_pt=Quotation(units=0, nano=0), instrument_uid='e6123145-9665-43e0-8413-cd61b8aa9b13', order_request_id='', response_metadata=ResponseMetadata(tracking_id='5e81ec190a88b0acaef2ab9fef2d8007', server_time=datetime.datetime(2024, 5, 8, 12, 43, 59, 520813, tzinfo=datetime.timezone.utc)))]"
      ]
     },
     "execution_count": 96,
     "metadata": {},
     "output_type": "execute_result"
    }
   ],
   "source": [
    "predictions = {'BBG004730N88' : 100, 'BBG00QPYJ5H0' : 60, 'BBG004731032' : 140}\n",
    "preds_to_orders(predictions, get_acc_id(token)[0], token, currencies)"
   ]
  },
  {
   "cell_type": "code",
   "execution_count": 38,
   "id": "fc0f9146-0915-4b60-8550-332fc6c124a3",
   "metadata": {},
   "outputs": [],
   "source": [
    "white_list = {'YNDX': 0.2,\n",
    "              'TCSG': 0.5,\n",
    "              'SBER': 0.01,\n",
    "              'LKOH': 0.5,\n",
    "              'ROSN': 0.05,\n",
    "              'BSPB': 0.01,\n",
    "              'MAGN': 0.005,\n",
    "              'MGNT': 0.5,\n",
    "              'PHOR': 1,\n",
    "              'ALRS': 0.01,\n",
    "              'PLZL': 0.5,\n",
    "              'SNGSP': 0.005,\n",
    "              'MTSS': 0.05,\n",
    "              'OZON': 0.5,\n",
    "              'BANE': 0.5,\n",
    "              'FIVE': 0.5,\n",
    "              'SNGS': 0.005,\n",
    "              'TATN': 0.1,\n",
    "              'PIKK': 0.1,\n",
    "              'NVTK': 0.2,\n",
    "              'CHMF': 0.2,\n",
    "              'SMLT': 0.5,\n",
    "              'UPRO': 0.001,\n",
    "              'SVCB': 0.005,\n",
    "              'LENT': 0.5,\n",
    "              'AFKS': 0.001,\n",
    "              'ASTR': 0.05,\n",
    "              'RTKM': 0.01,\n",
    "              'HHRU': 1,\n",
    "              'POSI': 0.2}\n"
   ]
  },
  {
   "cell_type": "code",
   "execution_count": 40,
   "id": "72680b2f-5ae9-4bae-911a-0f301d835e28",
   "metadata": {},
   "outputs": [
    {
     "name": "stdout",
     "output_type": "stream",
     "text": [
      "0 YNDX\n",
      "1 TCSG\n",
      "2 SBER\n",
      "3 LKOH\n",
      "4 ROSN\n",
      "5 BSPB\n",
      "6 MAGN\n",
      "7 MGNT\n",
      "8 PHOR\n",
      "9 ALRS\n",
      "10 PLZL\n",
      "11 SNGSP\n",
      "12 MTSS\n",
      "13 OZON\n",
      "14 BANE\n",
      "15 FIVE\n",
      "16 SNGS\n",
      "17 TATN\n",
      "18 PIKK\n",
      "19 NVTK\n",
      "20 CHMF\n",
      "21 SMLT\n",
      "22 UPRO\n",
      "23 SVCB\n",
      "24 LENT\n",
      "25 AFKS\n",
      "26 ASTR\n",
      "27 RTKM\n",
      "28 HHRU\n",
      "29 POSI\n"
     ]
    }
   ],
   "source": [
    "for i, elem in enumerate(white_list):\n",
    "    print(i, elem)"
   ]
  }
 ],
 "metadata": {
  "kernelspec": {
   "display_name": "Python 3 (ipykernel)",
   "language": "python",
   "name": "python3"
  },
  "language_info": {
   "codemirror_mode": {
    "name": "ipython",
    "version": 3
   },
   "file_extension": ".py",
   "mimetype": "text/x-python",
   "name": "python",
   "nbconvert_exporter": "python",
   "pygments_lexer": "ipython3",
   "version": "3.10.11"
  }
 },
 "nbformat": 4,
 "nbformat_minor": 5
}
